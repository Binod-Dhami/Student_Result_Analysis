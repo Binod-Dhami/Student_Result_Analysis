{
 "cells": [
  {
   "cell_type": "code",
   "execution_count": 20,
   "id": "79e22ffe-40d6-4070-85bb-753e23417302",
   "metadata": {},
   "outputs": [],
   "source": [
    "# what is numpy \n",
    "# it is a  python_library\n",
    "# it is used for all numerical operation in data analyst/ data_science\n",
    "# its deals with numercal feature\n",
    "# playing with arrays"
   ]
  },
  {
   "cell_type": "code",
   "execution_count": 21,
   "id": "9ea4dd4b-b567-44dc-911e-2ecb18707bfb",
   "metadata": {},
   "outputs": [],
   "source": [
    "import numpy as np"
   ]
  },
  {
   "cell_type": "code",
   "execution_count": 22,
   "id": "34fd541c-c54f-4425-85b1-5749a522b813",
   "metadata": {},
   "outputs": [],
   "source": [
    "a=np.array([1,2,3])"
   ]
  },
  {
   "cell_type": "code",
   "execution_count": 23,
   "id": "11d569a7-3877-414a-b0eb-96c6e28d513c",
   "metadata": {},
   "outputs": [
    {
     "name": "stdout",
     "output_type": "stream",
     "text": [
      "[1 2 3]\n"
     ]
    }
   ],
   "source": [
    "print(a)"
   ]
  },
  {
   "cell_type": "code",
   "execution_count": 24,
   "id": "75c904d5-c56c-405f-aa68-e3e47a413e0d",
   "metadata": {},
   "outputs": [],
   "source": [
    "a=np.array([1,2,3],dtype = str)"
   ]
  },
  {
   "cell_type": "code",
   "execution_count": 6,
   "id": "b4ac456f-6123-4e6c-857f-258bf9c18ff6",
   "metadata": {},
   "outputs": [
    {
     "name": "stdout",
     "output_type": "stream",
     "text": [
      "['1' '2' '3']\n"
     ]
    }
   ],
   "source": [
    "print(a)"
   ]
  },
  {
   "cell_type": "code",
   "execution_count": 25,
   "id": "1e21ab2b-f5db-4947-8a5a-673338369e5a",
   "metadata": {},
   "outputs": [],
   "source": [
    "a=np.array([1,2,3],dtype = float)"
   ]
  },
  {
   "cell_type": "code",
   "execution_count": 9,
   "id": "ff66a79f-cdfb-4087-8c06-a9ee1c7e29a7",
   "metadata": {},
   "outputs": [
    {
     "name": "stdout",
     "output_type": "stream",
     "text": [
      "[1. 2. 3.]\n"
     ]
    }
   ],
   "source": [
    "print(a)"
   ]
  },
  {
   "cell_type": "code",
   "execution_count": 11,
   "id": "51b24024-11c1-4cf0-93e9-c0248269320f",
   "metadata": {},
   "outputs": [
    {
     "data": {
      "text/plain": [
       "3"
      ]
     },
     "execution_count": 11,
     "metadata": {},
     "output_type": "execute_result"
    }
   ],
   "source": [
    "#length of an array\n",
    "len(a)"
   ]
  },
  {
   "cell_type": "code",
   "execution_count": 26,
   "id": "ee977005-4ae2-4d67-a81d-32acc3e2b8dc",
   "metadata": {},
   "outputs": [],
   "source": [
    "b=np.array([[1,2,3],[4,5,6]])"
   ]
  },
  {
   "cell_type": "code",
   "execution_count": 13,
   "id": "29ae3068-5dd1-4617-b57e-572df9e89f94",
   "metadata": {},
   "outputs": [
    {
     "name": "stdout",
     "output_type": "stream",
     "text": [
      "[[1 2 3]\n",
      " [4 5 6]]\n"
     ]
    }
   ],
   "source": [
    "print(b)"
   ]
  },
  {
   "cell_type": "code",
   "execution_count": 27,
   "id": "8aeead13-6aa2-44be-b9b4-1ab4990f17fe",
   "metadata": {},
   "outputs": [
    {
     "data": {
      "text/plain": [
       "1"
      ]
     },
     "execution_count": 27,
     "metadata": {},
     "output_type": "execute_result"
    }
   ],
   "source": [
    "#get dimensions of a numpy arary\n",
    "a.ndim"
   ]
  },
  {
   "cell_type": "code",
   "execution_count": 15,
   "id": "24ce1148-b2e7-48ca-858c-6a35362eb038",
   "metadata": {},
   "outputs": [
    {
     "data": {
      "text/plain": [
       "2"
      ]
     },
     "execution_count": 15,
     "metadata": {},
     "output_type": "execute_result"
    }
   ],
   "source": [
    "b.ndim"
   ]
  },
  {
   "cell_type": "code",
   "execution_count": 32,
   "id": "946da1e2-98bd-48f2-bff2-990d89afe4c9",
   "metadata": {},
   "outputs": [
    {
     "name": "stdout",
     "output_type": "stream",
     "text": [
      "[[1 2 3]\n",
      " [4 5 6]\n",
      " [7 8 9]]\n"
     ]
    }
   ],
   "source": [
    "#get s shape of a numpy array \n",
    "# shape tels us how many rows and column in an array\n",
    "a_int=np.array([[1,2,3],\n",
    "     [4,5,6],\n",
    "     [7,8,9]])\n",
    "print(a_int)"
   ]
  },
  {
   "cell_type": "code",
   "execution_count": null,
   "id": "95883eaf-12a6-4895-9a1c-ad774571eac2",
   "metadata": {},
   "outputs": [],
   "source": []
  }
 ],
 "metadata": {
  "kernelspec": {
   "display_name": "Python 3.11.0 64-bit",
   "language": "python",
   "name": "python3"
  },
  "language_info": {
   "codemirror_mode": {
    "name": "ipython",
    "version": 3
   },
   "file_extension": ".py",
   "mimetype": "text/x-python",
   "name": "python",
   "nbconvert_exporter": "python",
   "pygments_lexer": "ipython3",
   "version": "3.11.0"
  },
  "vscode": {
   "interpreter": {
    "hash": "aee8b7b246df8f9039afb4144a1f6fd8d2ca17a180786b69acc140d282b71a49"
   }
  }
 },
 "nbformat": 4,
 "nbformat_minor": 5
}
