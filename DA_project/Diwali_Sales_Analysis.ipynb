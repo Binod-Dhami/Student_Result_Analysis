{
 "cells": [
  {
   "cell_type": "code",
   "execution_count": 1,
   "id": "448bcf4d-cc65-4cf9-a193-9ea95c42411a",
   "metadata": {},
   "outputs": [],
   "source": [
    "import numpy as np # array works\n",
    "import pandas as pd # framework table\n",
    "import matplotlib.pyplot as plt #visulizating data\n",
    "import seaborn as sns #  help on visulization data "
   ]
  },
  {
   "cell_type": "code",
   "execution_count": null,
   "id": "7308d4e0-b0a7-4242-8eb2-bb7d59407eed",
   "metadata": {},
   "outputs": [],
   "source": []
  }
 ],
 "metadata": {
  "kernelspec": {
   "display_name": "Python 3.11.0 64-bit",
   "language": "python",
   "name": "python3"
  },
  "language_info": {
   "codemirror_mode": {
    "name": "ipython",
    "version": 3
   },
   "file_extension": ".py",
   "mimetype": "text/x-python",
   "name": "python",
   "nbconvert_exporter": "python",
   "pygments_lexer": "ipython3",
   "version": "3.11.0"
  },
  "vscode": {
   "interpreter": {
    "hash": "aee8b7b246df8f9039afb4144a1f6fd8d2ca17a180786b69acc140d282b71a49"
   }
  }
 },
 "nbformat": 4,
 "nbformat_minor": 5
}
